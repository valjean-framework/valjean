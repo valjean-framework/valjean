{
 "cells": [
  {
   "cell_type": "markdown",
   "id": "9ffeaea7",
   "metadata": {},
   "source": [
    "# Lecture des fichiers *rates* d'Apollo3 grâce au ``Picker``\n",
    "\n",
    "La lecture des fichiers *rates* d'Apollo3 (réseau) est possible dans *valjean*, ainsi que les différents autres formats HDF5.\n",
    "\n",
    "Deux modes de lecture sont possibles :\n",
    "\n",
    "- lecture de tout le fichier HDF5 et stockage des résultats dans un `Browser`, récupération des résultats sous forme de `Dataset` grâce au `Browser` -> utilisation du `Reader`\n",
    "- lecture d'un résultat ou de plusieurs résultats donnés à partir du HDF5 pour une utilisation directe sous forme de `Dataset` -> `Picker`\n",
    "\n",
    "La seconde méthode est bien plus rapide car elle ne nécessite pas de charger l'intégralité du fichier et bénéficie des accès de lecture du HDF5. Cet exemple se concentre sur cette seconde méthode."
   ]
  },
  {
   "cell_type": "markdown",
   "id": "7a6e99dc",
   "metadata": {},
   "source": [
    "## Le `Picker` : résumé\n",
    "\n",
    "À utiliser notamment si vous connaissez les métadonnées du résultat qui vous intéresse : `'zone'`, `'output'`, `'result_name'`, etc."
   ]
  },
  {
   "cell_type": "code",
   "execution_count": null,
   "id": "1ccce81e",
   "metadata": {},
   "outputs": [],
   "source": [
    "from valjean.eponine.apollo3.hdf5_picker import Picker"
   ]
  },
  {
   "cell_type": "code",
   "execution_count": null,
   "id": "6551a83a",
   "metadata": {},
   "outputs": [],
   "source": [
    "ap3p = Picker(\"Mosteller.hdf\")"
   ]
  },
  {
   "cell_type": "markdown",
   "id": "384ccab1",
   "metadata": {},
   "source": [
    "La méthode à utiliser pour récupérer les résultats est ``pick_standard_value`` :"
   ]
  },
  {
   "cell_type": "code",
   "execution_count": null,
   "id": "ef8de159",
   "metadata": {},
   "outputs": [],
   "source": [
    "keff = ap3p.pick_standard_value(output='output_1', zone='totaloutput', result_name='KEFF')"
   ]
  },
  {
   "cell_type": "markdown",
   "id": "6daf35f0",
   "metadata": {},
   "source": [
    "**Attention : les strings correspondant aux différents arguments (``'output'``, ``'result_name'``, etc) sont celles stockées dans le fichier, en capitales pour les résultats la plupart du temps.**\n",
    "\n",
    "Les résultats correspondants à des taux microscopiques (par isotopes) sont souvent en minuscules avec la première lettre en majuscules.\n",
    "\n",
    "## Inspection du fichier HDF5\n",
    "\n",
    "Il est tout de même possible d'inspecter le fichier (mais cela peut prendre un peu de temps)."
   ]
  },
  {
   "cell_type": "code",
   "execution_count": null,
   "id": "41d59e49",
   "metadata": {},
   "outputs": [],
   "source": [
    "print(ap3p.zones(output='output_0'))\n",
    "print(ap3p.zones(output='output_2'))"
   ]
  },
  {
   "cell_type": "markdown",
   "id": "6aed94c2",
   "metadata": {},
   "source": [
    "Illustration pour l'output ``'output_0'``."
   ]
  },
  {
   "cell_type": "code",
   "execution_count": null,
   "id": "ba7f1f3a",
   "metadata": {},
   "outputs": [],
   "source": [
    "print(f\"isotopes dans la zone 3: {ap3p.isotopes(output='output_0', zone='3')}\")\n",
    "print(f\"isotopes dans la zone 1: {ap3p.isotopes(output='output_0', zone='1')}\")"
   ]
  },
  {
   "cell_type": "markdown",
   "id": "bf9b6711",
   "metadata": {},
   "source": [
    "Recherche des résultats macroscopiques (pas d'isotope de mentionné) :"
   ]
  },
  {
   "cell_type": "code",
   "execution_count": null,
   "id": "8aedbd72",
   "metadata": {},
   "outputs": [],
   "source": [
    "print(f\"résultats dans la zone 1: {ap3p.results(output='output_0', zone='1')}\")\n",
    "print(f\"résultats pour totaloutput: {ap3p.results(output='output_0', zone='totaloutput')}\")"
   ]
  },
  {
   "cell_type": "markdown",
   "id": "2e8cb8a8",
   "metadata": {},
   "source": [
    "Recherche des résultats macroscopiques et microscopiques (isotope requis) :"
   ]
  },
  {
   "cell_type": "code",
   "execution_count": null,
   "id": "b93c1d64",
   "metadata": {},
   "outputs": [],
   "source": [
    "print(f'resultats sans isotopes: {ap3p.results(output=\"output_0\", zone=\"3\")}')\n",
    "print(f'resultats pour B10: {ap3p.results(output=\"output_0\", zone=\"3\", isotope=\"B10\")}')"
   ]
  },
  {
   "cell_type": "markdown",
   "id": "ca876a08",
   "metadata": {},
   "source": [
    "## Sélection des résultats\n",
    "\n",
    "Récupération d'un résultat sous forme de ``Dataset`` : utilisation de la méthode ``pick_standard_value`` pour les fichiers *rates* standards"
   ]
  },
  {
   "cell_type": "markdown",
   "id": "2694852a",
   "metadata": {},
   "source": [
    "### Exemple sur les $k_{eff}$"
   ]
  },
  {
   "cell_type": "code",
   "execution_count": null,
   "id": "7acd1119",
   "metadata": {},
   "outputs": [],
   "source": [
    "keff_o0 = ap3p.pick_standard_value(output='output_0', zone='totaloutput', result_name='KEFF')\n",
    "print(keff_o0)"
   ]
  },
  {
   "cell_type": "code",
   "execution_count": null,
   "id": "6c7d1444",
   "metadata": {},
   "outputs": [],
   "source": [
    "keff_o1 = ap3p.pick_standard_value(output='output_1', zone='totaloutput', result_name='KEFF')\n",
    "print(keff_o1)"
   ]
  },
  {
   "cell_type": "code",
   "execution_count": null,
   "id": "37082692",
   "metadata": {},
   "outputs": [],
   "source": [
    "print(f\"Difference between keffs (output_0, output1) = \"\n",
    "      f\"{(1/keff_o0.value - 1/keff_o1.value)*1e5:.0f} pcm\")"
   ]
  },
  {
   "cell_type": "markdown",
   "id": "2d45cb6a",
   "metadata": {},
   "source": [
    "### Exemple sur les flux (arrays)"
   ]
  },
  {
   "cell_type": "code",
   "execution_count": null,
   "id": "b4997080",
   "metadata": {},
   "outputs": [],
   "source": [
    "flux = ap3p.pick_standard_value(output='output_0', zone='1', result_name='FLUX')\n",
    "print(flux)\n",
    "print(flux.value)\n",
    "flux.name = 'output 0'"
   ]
  },
  {
   "cell_type": "code",
   "execution_count": null,
   "id": "4868c486",
   "metadata": {},
   "outputs": [],
   "source": [
    "absB10 = ap3p.pick_standard_value(output='output_0', zone='3', result_name='Absorption', isotope='B10')\n",
    "print(absB10)\n",
    "print(absB10.value)"
   ]
  },
  {
   "cell_type": "markdown",
   "id": "d0def10f",
   "metadata": {},
   "source": [
    "## Comparaison de résultats\n",
    "\n",
    "Les tests disponibles dans *valjean* peuvent tout à fait être appliqués aux résultats issus du ``Reader`` ou du ``Picker``.\n",
    "\n",
    "Ici `TestApproxEqual` : les résultats sont des `float` sans erreur associée (mise à `nan` par défaut)."
   ]
  },
  {
   "cell_type": "code",
   "execution_count": null,
   "id": "e8ddafa4",
   "metadata": {},
   "outputs": [],
   "source": [
    "flux_1 = ap3p.pick_standard_value(output='output_1', zone='1', result_name='FLUX')\n",
    "flux_1.name = 'output 1'"
   ]
  },
  {
   "cell_type": "code",
   "execution_count": null,
   "id": "f9233066",
   "metadata": {},
   "outputs": [],
   "source": [
    "flux_2 = ap3p.pick_standard_value(output='output_2', zone='1', result_name='FLUX')\n",
    "flux_2.name = 'output 2'"
   ]
  },
  {
   "cell_type": "markdown",
   "id": "dc06c8d6",
   "metadata": {},
   "source": [
    "Import du test et des représentations (voir les autres notebooks)"
   ]
  },
  {
   "cell_type": "code",
   "execution_count": null,
   "id": "b08c607e",
   "metadata": {},
   "outputs": [],
   "source": [
    "from valjean.gavroche.test import TestApproxEqual\n",
    "from valjean.javert.representation import FullRepresenter\n",
    "from valjean.javert.rst import RstFormatter\n",
    "from valjean.javert.mpl import MplPlot\n",
    "from valjean.javert.verbosity import Verbosity\n",
    "\n",
    "frepr = FullRepresenter()\n",
    "rstformat = RstFormatter()"
   ]
  },
  {
   "cell_type": "code",
   "execution_count": null,
   "id": "5e6f5145",
   "metadata": {},
   "outputs": [],
   "source": [
    "taeq_res = TestApproxEqual(flux, flux_1, flux_2, name='TestApproxEqual',\n",
    "                           description='Test le TestApproxEqual sur les flux', rtol=1e-2).evaluate()\n",
    "print(bool(taeq_res))  # expected: False"
   ]
  },
  {
   "cell_type": "code",
   "execution_count": null,
   "id": "96a9e749",
   "metadata": {},
   "outputs": [],
   "source": [
    "aeqrepr = frepr(taeq_res, verbosity=Verbosity.FULL_DETAILS)  # il s'agit d'une liste de templates\n",
    "aeqrst = rstformat.template(aeqrepr[1])\n",
    "print(aeqrst)"
   ]
  },
  {
   "cell_type": "code",
   "execution_count": null,
   "id": "15ba0686",
   "metadata": {},
   "outputs": [],
   "source": [
    "mpl = MplPlot(aeqrepr[0]).draw()"
   ]
  }
 ],
 "metadata": {
  "kernelspec": {
   "display_name": "Python 3",
   "language": "python",
   "name": "python3"
  },
  "language_info": {
   "codemirror_mode": {
    "name": "ipython",
    "version": 3
   },
   "file_extension": ".py",
   "mimetype": "text/x-python",
   "name": "python",
   "nbconvert_exporter": "python",
   "pygments_lexer": "ipython3",
   "version": "3.9.0"
  }
 },
 "nbformat": 4,
 "nbformat_minor": 5
}
