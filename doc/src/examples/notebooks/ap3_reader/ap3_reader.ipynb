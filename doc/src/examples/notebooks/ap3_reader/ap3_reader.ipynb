{
 "cells": [
  {
   "cell_type": "markdown",
   "id": "9ffeaea7",
   "metadata": {},
   "source": [
    "# Lecture des fichiers *rates* d'Apollo3 : le ``Reader``\n",
    "\n",
    "La lecture des fichiers *rates* d'Apollo3 (réseau) est possible dans *valjean*, ainsi que les différents autres formats HDF5.\n",
    "\n",
    "Deux modes de lecture sont possibles :\n",
    "\n",
    "- lecture de tout le fichier HDF5 et stockage des résultats dans un `Browser`, récupération des résultats sous forme de `Dataset` grâce au `Browser` -> utilisation du `Reader`\n",
    "- lecture d'un résultat ou de plusieurs résultats donnés à partir du HDF5 pour une utilisation directe sous forme de `Dataset` -> `Picker`\n",
    "\n",
    "La seconde méthode est bien plus rapide car elle ne nécessite pas de charger l'intégralité du fichier et bénéficie des accès de lecture du HDF5.\n",
    "\n",
    "Cet exemple se concentre sur la première méthode."
   ]
  },
  {
   "cell_type": "markdown",
   "id": "d2b7d778",
   "metadata": {},
   "source": [
    "## Le `Reader` : résumé"
   ]
  },
  {
   "cell_type": "code",
   "execution_count": null,
   "id": "5c2d299c",
   "metadata": {},
   "outputs": [],
   "source": [
    "from valjean.eponine.apollo3.hdf5_reader import Reader"
   ]
  },
  {
   "cell_type": "markdown",
   "id": "4e9e8967",
   "metadata": {},
   "source": [
    "Lecture d'un fichier *rates* typique : cas Mosteller, avec isotopes particularisés."
   ]
  },
  {
   "cell_type": "code",
   "execution_count": null,
   "id": "1e825b7b",
   "metadata": {},
   "outputs": [],
   "source": [
    "ap3r = Reader(\"full_rates.hdf\")"
   ]
  },
  {
   "cell_type": "markdown",
   "id": "dd9a820b",
   "metadata": {},
   "source": [
    "Transformation en `Browser`"
   ]
  },
  {
   "cell_type": "code",
   "execution_count": null,
   "id": "3006ee40",
   "metadata": {},
   "outputs": [],
   "source": [
    "ap3b = ap3r.to_browser()"
   ]
  },
  {
   "cell_type": "code",
   "execution_count": null,
   "id": "be48e862",
   "metadata": {},
   "outputs": [],
   "source": [
    "print(ap3b)"
   ]
  },
  {
   "cell_type": "markdown",
   "id": "57142906",
   "metadata": {},
   "source": [
    "39 = nombre de résultats total dans le fichier.\n",
    "\n",
    "Il est possible de faire les deux précédentes étapes en une seule :"
   ]
  },
  {
   "cell_type": "code",
   "execution_count": null,
   "id": "8be296c3",
   "metadata": {},
   "outputs": [],
   "source": [
    "from valjean.eponine.apollo3.hdf5_reader import hdf_to_browser\n",
    "htb = hdf_to_browser(\"full_rates.hdf\")"
   ]
  },
  {
   "cell_type": "markdown",
   "id": "3e7e2217",
   "metadata": {},
   "source": [
    "## Inspection du fichier\n",
    "\n",
    "On peut inspecter davantage le fichier grâce au `Browser` et connaître notamment les valeurs possibles des clefs du `Browser`."
   ]
  },
  {
   "cell_type": "code",
   "execution_count": null,
   "id": "f09fb757",
   "metadata": {},
   "outputs": [],
   "source": [
    "print(f'isotopes: {list(ap3b.available_values(\"isotope\"))}')\n",
    "print(f'resultats: {list(ap3b.available_values(\"result_name\"))}')\n",
    "print(f'zones: {list(ap3b.available_values(\"zone\"))}')\n",
    "print(f'outputs: {list(ap3b.available_values(\"output\"))}')"
   ]
  },
  {
   "cell_type": "markdown",
   "id": "5f0168dd",
   "metadata": {},
   "source": [
    "Toutes les combinaisons ne sont pas possibles.\n",
    "\n",
    "Pour sélectionner un résultat :\n",
    "\n",
    "- si on ne sélectionne qu'un seul résultat : méthode `select_by` → dictionnaire correspondant au résultat demandé\n",
    "- si on en sélectionne plusieurs en vue d'une sélection plus raffinée ensuite : `filter_by` → sous-`Browser` dont la liste de résultats a été réduite à ceux correspondant à la sélection demandée\n",
    "\n",
    "Le résultat, sous forme de ``Dataset``, se trouve sous la clef ``'results'``."
   ]
  },
  {
   "cell_type": "code",
   "execution_count": null,
   "id": "f5121fde",
   "metadata": {},
   "outputs": [],
   "source": [
    "sb_totout = ap3b.filter_by(zone='totaloutput')\n",
    "print(sb_totout)\n",
    "print(f'resultats: {list(sb_totout.available_values(\"result_name\"))}')\n",
    "print(f'outputs: {list(sb_totout.available_values(\"output\"))}')"
   ]
  },
  {
   "cell_type": "code",
   "execution_count": null,
   "id": "80d6ec18",
   "metadata": {},
   "outputs": [],
   "source": [
    "keffs = sb_totout.filter_by(result_name=\"keff\")\n",
    "print(len(keffs))"
   ]
  },
  {
   "cell_type": "code",
   "execution_count": null,
   "id": "0f48c89f",
   "metadata": {},
   "outputs": [],
   "source": [
    "keff = sb_totout.select_by(result_name=\"keff\")\n",
    "print(keff)"
   ]
  },
  {
   "cell_type": "code",
   "execution_count": null,
   "id": "9e57c38a",
   "metadata": {},
   "outputs": [],
   "source": [
    "sb_q = ap3b.filter_by(zone='q')\n",
    "print(sb_q)"
   ]
  },
  {
   "cell_type": "code",
   "execution_count": null,
   "id": "7354a37a",
   "metadata": {},
   "outputs": [],
   "source": [
    "print(f'isotopes: {list(sb_q.available_values(\"isotope\"))}')\n",
    "print(f'resultats: {list(sb_q.available_values(\"result_name\"))}')\n",
    "print(f'outputs: {list(sb_q.available_values(\"output\"))}')"
   ]
  },
  {
   "cell_type": "code",
   "execution_count": null,
   "id": "e6749750",
   "metadata": {},
   "outputs": [],
   "source": [
    "sb_xe135 = sb_q.filter_by(isotope='Xe135')\n",
    "print(f'resultats pour Xe135: {list(sb_xe135.available_values(\"result_name\"))}')"
   ]
  },
  {
   "cell_type": "code",
   "execution_count": null,
   "id": "b617b8bf",
   "metadata": {},
   "outputs": [],
   "source": [
    "sb_u238 = sb_q.filter_by(isotope='U238')\n",
    "print(f'resultats pour U238: {list(sb_u238.available_values(\"result_name\"))}')"
   ]
  },
  {
   "cell_type": "markdown",
   "id": "34ad7fe3",
   "metadata": {},
   "source": [
    "## Sélection des résultats\n",
    "\n",
    "La liste des résultats est disponible dans ``content`` dans le ``Browser`` ou directement grâce à la méthode ``select_by`` si la sélection est réduite à un résultat unique.\n",
    "\n",
    "Les résultats sont sotckés sous la clef ``'results'`` sous forme de ``Dataset``.\n",
    "\n",
    "La plupart des résultats sont donnés par groupes d'énergie. Les intervalles (`bins` dans le ``Dataset``) correspondent à l'index des groupes.\n",
    "\n",
    "Certaines quantités ont différents axes :\n",
    "\n",
    "- $k_{eff}$ et $k_{inf}$ : grandeurs scalaires, pas d'axes\n",
    "- diffusion : le nombre d'anisotropies sur lequel le calcul est fait est pris en compte, s'il est différent de 1 les axes seront (anisotropies, groupes)\n",
    "- flux surfacique : les axes sont (groupes, surfaces), surfaces contenant l'index des surfaces\n",
    "- courant : les axes sont (groupes, surfaces, direction), surfaces contenant l'index des surfaces et direction (*incoming* et *leaving*)"
   ]
  },
  {
   "cell_type": "code",
   "execution_count": null,
   "id": "a304a89c",
   "metadata": {},
   "outputs": [],
   "source": [
    "xe135_abs = sb_q.select_by(isotope='Xe135', result_name='absorption')\n",
    "print(list(xe135_abs.keys()))\n",
    "xe135_abs = xe135_abs['results']\n",
    "print(xe135_abs.shape)  # 26 groupes\n",
    "print(xe135_abs.what)\n",
    "xe135_abs.name = '$^{135}$Xe'"
   ]
  },
  {
   "cell_type": "code",
   "execution_count": null,
   "id": "1b40d098",
   "metadata": {},
   "outputs": [],
   "source": [
    "macro_diff = sb_q.select_by(isotope='macro', result_name='diffusion')\n",
    "print(macro_diff['results'].what)\n",
    "print(macro_diff['results'].shape)\n",
    "print(list(macro_diff['results'].bins.keys()))"
   ]
  },
  {
   "cell_type": "code",
   "execution_count": null,
   "id": "faeb7ebf",
   "metadata": {},
   "outputs": [],
   "source": [
    "surf_flux = sb_totout.select_by(result_name='surfflux')\n",
    "print(surf_flux['results'].what)\n",
    "print(surf_flux['results'].shape)\n",
    "print(list(surf_flux['results'].bins.keys()))"
   ]
  },
  {
   "cell_type": "code",
   "execution_count": null,
   "id": "1cf3ef5b",
   "metadata": {},
   "outputs": [],
   "source": [
    "current = sb_totout.select_by(result_name='current')['results']\n",
    "print(current.what)\n",
    "print(current.shape)\n",
    "print(current.bins)"
   ]
  },
  {
   "cell_type": "markdown",
   "id": "d0def10f",
   "metadata": {},
   "source": [
    "## Comparaison de résultats\n",
    "\n",
    "Les tests disponibles dans *valjean* peuvent tout à fait être appliqués aux résultats issus du ``Reader`` ou du ``Picker``.\n",
    "\n",
    "Ici `TestApproxEqual` : les résultats sont des `float` sans erreur associée (mise à `nan` par défaut)."
   ]
  },
  {
   "cell_type": "markdown",
   "id": "dc06c8d6",
   "metadata": {},
   "source": [
    "### Import du test et des représentations (voir les autres notebooks)"
   ]
  },
  {
   "cell_type": "code",
   "execution_count": null,
   "id": "b08c607e",
   "metadata": {},
   "outputs": [],
   "source": [
    "from valjean.gavroche.test import TestApproxEqual\n",
    "from valjean.javert.representation import FullRepresenter\n",
    "from valjean.javert.rst import RstFormatter\n",
    "from valjean.javert.mpl import MplPlot\n",
    "from valjean.javert.verbosity import Verbosity\n",
    "\n",
    "frepr = FullRepresenter()\n",
    "rstformat = RstFormatter()"
   ]
  },
  {
   "cell_type": "markdown",
   "id": "0a052728",
   "metadata": {},
   "source": [
    "### Comparaison des aborptions pour différents isotopes"
   ]
  },
  {
   "cell_type": "code",
   "execution_count": null,
   "id": "906f42bb",
   "metadata": {},
   "outputs": [],
   "source": [
    "sm149_abs = sb_q.select_by(isotope='Sm149', result_name='absorption')['results']\n",
    "sm149_abs.name = '$^{149}$Sm'\n",
    "i135_abs = sb_q.select_by(isotope='I135', result_name='absorption')['results']\n",
    "i135_abs.name = '$^{135}$I'"
   ]
  },
  {
   "cell_type": "code",
   "execution_count": null,
   "id": "5e6f5145",
   "metadata": {},
   "outputs": [],
   "source": [
    "taeq_res = TestApproxEqual(xe135_abs, sm149_abs, i135_abs, name='TestApproxEqual',\n",
    "                           description='Test le TestApproxEqual sur les absorptions', rtol=1e-2).evaluate()\n",
    "print(bool(taeq_res))  # expected: False"
   ]
  },
  {
   "cell_type": "markdown",
   "id": "9af5049f",
   "metadata": {},
   "source": [
    "Ajout d'une fonction pour passer en échelle logarithmique l'axe des ordonnées vu les variations du spectre."
   ]
  },
  {
   "cell_type": "code",
   "execution_count": null,
   "id": "219a165e",
   "metadata": {},
   "outputs": [],
   "source": [
    "from valjean.javert import plot_repr as pltr\n",
    "def log_post(templates, tres):\n",
    "    pltr.post_treatment(templates, tres)\n",
    "    for templ in templates:\n",
    "        templ.subplots[0].attributes.logy = True\n",
    "    return templates"
   ]
  },
  {
   "cell_type": "code",
   "execution_count": null,
   "id": "0e8f6b11",
   "metadata": {},
   "outputs": [],
   "source": [
    "logaeqrepr = FullRepresenter(post=log_post)(taeq_res, verbosity=Verbosity.FULL_DETAILS)\n",
    "aeqrst = rstformat.template(logaeqrepr[1])\n",
    "print(aeqrst)"
   ]
  },
  {
   "cell_type": "code",
   "execution_count": null,
   "id": "15ba0686",
   "metadata": {},
   "outputs": [],
   "source": [
    "mpl = MplPlot(logaeqrepr[0]).draw()"
   ]
  },
  {
   "cell_type": "markdown",
   "id": "7fd740dd",
   "metadata": {},
   "source": [
    "### Comparaison de la diffusion pour les différentes valeurs d'anisotropie\n",
    "\n",
    "La méthode `squeeze` permet de supprimer les dimensions triviales d'un `Dataset` (on ne comparera que des `Datasets` à une dimension ici)."
   ]
  },
  {
   "cell_type": "code",
   "execution_count": null,
   "id": "501b68cf",
   "metadata": {},
   "outputs": [],
   "source": [
    "macro_diff_aniso = [macro_diff['results'][:1, :].squeeze()]\n",
    "macro_diff_aniso[-1].name = 'anisotropie = 0'\n",
    "macro_diff_aniso[-1].what = 'diffusion (macro)'\n",
    "print(macro_diff_aniso[-1])"
   ]
  },
  {
   "cell_type": "code",
   "execution_count": null,
   "id": "71908c3c",
   "metadata": {},
   "outputs": [],
   "source": [
    "# anisotropie d'ordre 1\n",
    "macro_diff_aniso.append(macro_diff['results'][1:2, :].squeeze())\n",
    "macro_diff_aniso[-1].name = 'anisotropie = 1'\n",
    "macro_diff_aniso[-1].what = 'diffusion (macro)'\n",
    "# anisotropie d'ordre 2\n",
    "macro_diff_aniso.append(macro_diff['results'][2:3, :].squeeze())\n",
    "macro_diff_aniso[-1].name = 'anisotropie = 2'\n",
    "macro_diff_aniso[-1].what = 'diffusion (macro)'\n",
    "# anisotropie d'ordre 3\n",
    "macro_diff_aniso.append(macro_diff['results'][3:, :].squeeze())\n",
    "macro_diff_aniso[-1].name = 'anisotropie = 3'\n",
    "macro_diff_aniso[-1].what = 'diffusion (macro)'"
   ]
  },
  {
   "cell_type": "code",
   "execution_count": null,
   "id": "e6597fc8",
   "metadata": {},
   "outputs": [],
   "source": [
    "taeq_res = TestApproxEqual(*macro_diff_aniso, name='TestApproxEqual',\n",
    "                           description=(\"Test le TestApproxEqual sur la diffusion macroscopique aux différents \"\n",
    "                                        \"ordres d'anisotropie\"),\n",
    "                           rtol=1e-2).evaluate()\n",
    "print(bool(taeq_res))  # expected: False"
   ]
  },
  {
   "cell_type": "code",
   "execution_count": null,
   "id": "96a9e749",
   "metadata": {},
   "outputs": [],
   "source": [
    "aeqrepr = frepr(taeq_res, verbosity=Verbosity.FULL_DETAILS)  # il s'agit d'une liste de templates\n",
    "aeqrst = rstformat.template(aeqrepr[1])\n",
    "print(aeqrst)"
   ]
  },
  {
   "cell_type": "code",
   "execution_count": null,
   "id": "9f2f4618",
   "metadata": {},
   "outputs": [],
   "source": [
    "mpl = MplPlot(aeqrepr[0]).draw()"
   ]
  },
  {
   "cell_type": "markdown",
   "id": "081cf1dc",
   "metadata": {},
   "source": [
    "### Comparaison des courants entrants et sortants\n",
    "\n",
    "Il s'agit d'une comparaison d'arrays en 2 dimensions, mais cela ne change pas les tests.\n",
    "\n",
    "Pour une question de lisibilité du graphique on se restreint à 20 surfaces."
   ]
  },
  {
   "cell_type": "code",
   "execution_count": null,
   "id": "019f0da5",
   "metadata": {},
   "outputs": [],
   "source": [
    "current_in = current[:, :20, :1].squeeze()\n",
    "current_out = current[:, :20, 1:].squeeze()"
   ]
  },
  {
   "cell_type": "code",
   "execution_count": null,
   "id": "ad1b6534",
   "metadata": {},
   "outputs": [],
   "source": [
    "caeq_res = TestApproxEqual(\n",
    "    current_in, current_out, name='TestApproxEqual',\n",
    "    description=(\"Test le TestApproxEqual sur la diffusion macroscopique aux différents \"\n",
    "                 \"ordres d'anisotropie\"),\n",
    "    rtol=1e-2).evaluate()\n",
    "print(bool(caeq_res))  # expected: False"
   ]
  },
  {
   "cell_type": "code",
   "execution_count": null,
   "id": "fa013f75",
   "metadata": {},
   "outputs": [],
   "source": [
    "caeqrepr = frepr(caeq_res, verbosity=Verbosity.FULL_DETAILS)  # il s'agit d'une liste de templates\n",
    "caeqrst = rstformat.template(caeqrepr[1])\n",
    "# print(caeqrst)"
   ]
  },
  {
   "cell_type": "code",
   "execution_count": null,
   "id": "8ff7ffc4",
   "metadata": {},
   "outputs": [],
   "source": [
    "mpl = MplPlot(caeqrepr[0]).draw()"
   ]
  },
  {
   "cell_type": "code",
   "execution_count": null,
   "id": "0b312167",
   "metadata": {},
   "outputs": [],
   "source": [
    "ratio = current_out / current_in"
   ]
  },
  {
   "cell_type": "code",
   "execution_count": null,
   "id": "2a965338",
   "metadata": {},
   "outputs": [],
   "source": [
    "import matplotlib.pyplot as plt\n",
    "import numpy as np\n",
    "\n",
    "fig, splts = plt.subplots()\n",
    "bbins = np.broadcast_arrays(ratio.bins['groups'].reshape([26, 1]),\n",
    "                            ratio.bins['surfaces'].reshape([20]))\n",
    "h2d = splts.hist2d(\n",
    "    bbins[0].flatten(), bbins[1].flatten(),\n",
    "    bins=[np.append(ratio.bins['groups']-0.5, [ratio.bins['groups'][-1]+0.5]),\n",
    "          np.append(ratio.bins['surfaces']-0.5, [ratio.bins['surfaces'][-1]+0.5])],\n",
    "    weights=ratio.value.flatten())\n",
    "cbar = fig.colorbar(h2d[3], ax=splts)\n",
    "splts.set_xlabel('groups')\n",
    "splts.set_ylabel('surfaces')"
   ]
  }
 ],
 "metadata": {
  "kernelspec": {
   "display_name": "Python 3",
   "language": "python",
   "name": "python3"
  },
  "language_info": {
   "codemirror_mode": {
    "name": "ipython",
    "version": 3
   },
   "file_extension": ".py",
   "mimetype": "text/x-python",
   "name": "python",
   "nbconvert_exporter": "python",
   "pygments_lexer": "ipython3",
   "version": "3.8.6"
  }
 },
 "nbformat": 4,
 "nbformat_minor": 5
}
