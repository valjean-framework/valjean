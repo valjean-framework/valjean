{
 "cells": [
  {
   "cell_type": "markdown",
   "metadata": {
    "slideshow": {
     "slide_type": "-"
    }
   },
   "source": [
    "# Benchmark REPLICA : exemples de parsing"
   ]
  },
  {
   "cell_type": "markdown",
   "metadata": {},
   "source": [
    "## Principe du parsing des sorties Tripoli-4 standard\n",
    "\n",
    "Le parsing est effectué en deux temps :\n",
    "\n",
    "- un premier parcours rapide du fichier répérant un certain nombre de balises (nombre de bacthes requis, temps  d'initialisation, de simulation, `NORMAL COMPLETION`, etc) $\\rightarrow$ module `scan.py`. Ce parcours permet également de repérer les résultats dans la sortie, débutant par `RESULTS ARE GIVEN` et terminant le plus souvent par `'simulation time:'`.\n",
    "\n",
    "- le réel parsing des résultats, piloté par le module `parse.py` qui appelle la grammaire (utilisant `pyparsing`) et transformant le résultat en objets python standards (listes, dictionnaires, tableaux numpy)."
   ]
  },
  {
   "cell_type": "markdown",
   "metadata": {},
   "source": [
    "## Exemple de parsing, jeu de données `fast_neutron.t4`\n",
    "\n",
    "### Présentation du jeu de données\n",
    "\n",
    "[Le jeu de données](fast_neutron.t4) est issu du benchmark REPLICA du programme SINBAD, dont la géométrie Tripoli-4 est représentée ci-dessous.  Il s'agit ici de la simulation des neutrons rapides.\n",
    "\n",
    "<img src=\"replica_full.png\" width=\"400\">\n",
    "\n",
    "2 types de réponses sont attendus :\n",
    "\n",
    "- réactions dans des détecteurs\n",
    "- flux surfacique\n",
    "\n",
    "Dans le cas des neutrons rapides on dispose de 3 détecteurs : $^{103}\\mathrm{Rh}$ (`RH103_IRDF85`), $^{115}\\mathrm{In}$ (`IN115_IRDF85`) et $^{32}\\mathrm{S}$ (`S32_IRDF85`).\n",
    "\n",
    "On fait ces mesures à différents emplacements. Le résultat final est constitué de :\n",
    "\n",
    "- 10 réactions sur le $^{103}\\mathrm{Rh}$ (10 frontières de volume différentes)\n",
    "- 3 réactions sur le $^{115}\\mathrm{In}$\n",
    "- 3 réactions sur le $^{32}\\mathrm{S}$\n",
    "- 2 flux surfaciques\n",
    "\n",
    "Les emplacements des mesures sont représentés ci-dessous.\n",
    "\n",
    "<img src=\"replica_detectors.png\" width=\"400\">"
   ]
  },
  {
   "cell_type": "markdown",
   "metadata": {},
   "source": [
    "### Étape 1 : scan puis parsing du résultat\n",
    "\n",
    "On charge le module `Parser`. Le jeu de données est scanné automatiquement, tous les résultats de batches sont stockés dans la variable `scan_res`. On peut ensuite parser ceux qui nous intéressent.\n",
    "\n",
    "Par défaut le résultat parsé sera le dernier batch, mais on pourrait en parser un autre.\n",
    "\n",
    "Dernier batch $\\rightarrow$ -1"
   ]
  },
  {
   "cell_type": "markdown",
   "metadata": {},
   "source": [
    "#### Scan du jeu de données"
   ]
  },
  {
   "cell_type": "code",
   "execution_count": null,
   "metadata": {
    "slideshow": {
     "slide_type": "-"
    }
   },
   "outputs": [],
   "source": [
    "from valjean.eponine.tripoli4.parse import Parser"
   ]
  },
  {
   "cell_type": "code",
   "execution_count": null,
   "metadata": {
    "slideshow": {
     "slide_type": "-"
    }
   },
   "outputs": [],
   "source": [
    "t4vv_replica_fast = 'fast_neutron.res'\n",
    "t4p = Parser(t4vv_replica_fast)"
   ]
  },
  {
   "cell_type": "markdown",
   "metadata": {},
   "source": [
    "Parmi les membres de `t4p` il y a le résultat du scan. Certains paramètres accessibles à partir de ce résultat sont montrés ici :\n",
    "\n",
    "- parallèle ou mono-processeur (booléen)\n",
    "- les temps\n"
   ]
  },
  {
   "cell_type": "code",
   "execution_count": null,
   "metadata": {},
   "outputs": [],
   "source": [
    "t4p.scan_res.normalend"
   ]
  },
  {
   "cell_type": "code",
   "execution_count": null,
   "metadata": {
    "slideshow": {
     "slide_type": "-"
    }
   },
   "outputs": [],
   "source": [
    "t4p.scan_res.para"
   ]
  },
  {
   "cell_type": "code",
   "execution_count": null,
   "metadata": {},
   "outputs": [],
   "source": [
    "type(t4p.scan_res)"
   ]
  },
  {
   "cell_type": "code",
   "execution_count": null,
   "metadata": {},
   "outputs": [],
   "source": [
    "t4p.scan_res.times"
   ]
  },
  {
   "cell_type": "markdown",
   "metadata": {},
   "source": [
    "#### Parsing du jeu de données\n",
    "\n",
    "Le jeu de données peut être parser soit par numéro du batch quand on le connaît, grâce à la méthode `parse_from_number`, soit par son index dans la liste des batches scannés grâce à la méthode `parse_from_index`.\n",
    "\n",
    "Le plus souvent c'est le dernier batch qui nous intéresse, le défaut de `parse_from_index` est donc `-1`.\n",
    "\n",
    "Ces méthodes renvoient un `ParseResult` qui contient le batch parsé ainsi que les variables globales du jeu de données récupérées lors du scan (objet `res`).\n",
    "\n",
    "Le `ParseResult` peut alors être transformé en `Browser` pour faciliter l'accès aux différents résultats grâce à la méthode `to_browser`."
   ]
  },
  {
   "cell_type": "code",
   "execution_count": null,
   "metadata": {},
   "outputs": [],
   "source": [
    "t4pres = t4p.parse_from_index()"
   ]
  },
  {
   "cell_type": "code",
   "execution_count": null,
   "metadata": {},
   "outputs": [],
   "source": [
    "len(t4pres.res), type(t4pres.res), list(t4pres.res.keys())"
   ]
  },
  {
   "cell_type": "code",
   "execution_count": null,
   "metadata": {},
   "outputs": [],
   "source": [
    "print('run_data:', t4pres.res['run_data'])\n",
    "print('batch_data:', t4pres.res['batch_data'])"
   ]
  },
  {
   "cell_type": "markdown",
   "metadata": {},
   "source": [
    "Le résultat stocké dans `ParseResult` est un dictionnaire.\n",
    "\n",
    "* `'batch_data'` correspond aux données spécifiques du batch (temps de simulation cumulé à la fin de celui-ci, numéro d'édition, intensité de la source, etc.)\n",
    "* `'run_data'` correspond aux données globales du jeu de données (temps d'initialisation, les nombres d'erreurs et de warnings, le nom du jeu de données, etc.\n",
    "* `'list_responses'` est la liste des résultats (liste de dictionnaires)"
   ]
  },
  {
   "cell_type": "code",
   "execution_count": null,
   "metadata": {},
   "outputs": [],
   "source": [
    "print(type(t4pres.res['list_responses']))\n",
    "print(type(t4pres.res['list_responses'][-1]))"
   ]
  },
  {
   "cell_type": "markdown",
   "metadata": {},
   "source": [
    "Les différents résultats sont stockés dans la liste dans l'ordre où ils apparaissent dans la sortie de TRIPOLI4, sous forme de dictionnaires.\n",
    "\n",
    "Exemple court :"
   ]
  },
  {
   "cell_type": "code",
   "execution_count": null,
   "metadata": {},
   "outputs": [],
   "source": [
    "print(t4pres.res['list_responses'][0])"
   ]
  },
  {
   "cell_type": "markdown",
   "metadata": {},
   "source": [
    "Pour manipuler plus aisément les résultats un `Browser` est disponible :"
   ]
  },
  {
   "cell_type": "code",
   "execution_count": null,
   "metadata": {},
   "outputs": [],
   "source": [
    "t4b = t4pres.to_browser()"
   ]
  },
  {
   "cell_type": "code",
   "execution_count": null,
   "metadata": {
    "scrolled": true
   },
   "outputs": [],
   "source": [
    "print(t4b)"
   ]
  },
  {
   "cell_type": "markdown",
   "metadata": {},
   "source": [
    "Il permet notamment de faire la sélection des résultats à partir des métadonnées du cas considéré. Leur nom est donné dans le `print` du `Browser`.\n",
    "\n",
    "Les résultats de Tripoli-4 apparaissent sous la forme d'une liste de réponses (ou d'une liste de scores) dans le listing de sortie. Le `Browser` permet de les sélectionner de manière plus efficace.\n",
    "\n",
    "Les résultats sont encapsulés dans un `Dataset`."
   ]
  },
  {
   "cell_type": "markdown",
   "metadata": {},
   "source": [
    "### Étape 2 : sélection des données grâce au `Browser`\n",
    "\n",
    "On différencie dans chaque \"réponse\" les données, soit les résultats du calcul effectué, et les métadonnées qui permettent de l'identifier. Chaque réponse est un dictionnaire dont la clef `'results'` correspond aux données. Le `Browser` est construit à partir de cela.\n",
    "\n",
    "Le `Browser` contient notamment :\n",
    "\n",
    "* la liste des résultats et de leurs métadonnées (`content`)\n",
    "* un index sur ces résultats (`index`), basé sur les métadonnées\n",
    "* les variables globales du batch (`globals`)\n",
    "\n",
    "À noter : il est possible d'utiliser une autre clef que `'results'` pour les données, à condition de le spécifier à la créaction du `Browser` grâce à l'argument `data_key`.\n",
    "\n",
    "#### Explorer le `Browser`\n",
    "\n",
    "2 niveaux d'impression sont également disponibles pour le `Browser`.\n",
    "\n",
    "Méthodes d'aide pour découvrir le `Browser` :\n",
    "\n",
    "* `keys`: pour obtenir toutes les clefs de l'index, soit le nom / identifiant des métadonnées du listing concerné\n",
    "* `available_values`: pour obtenir les valeurs correspondant à ces métadonnées\n",
    "\n",
    "Dans ces deux cas il s'agit de *générateurs*. Pour afficher correctement les résultats il faut les encapsuler dans une liste par exemple."
   ]
  },
  {
   "cell_type": "code",
   "execution_count": null,
   "metadata": {},
   "outputs": [],
   "source": [
    "print('{!s}'.format(t4b))  # équivalent à print(t4rb)"
   ]
  },
  {
   "cell_type": "code",
   "execution_count": null,
   "metadata": {},
   "outputs": [],
   "source": [
    "print('{!r}'.format(t4b))"
   ]
  },
  {
   "cell_type": "code",
   "execution_count": null,
   "metadata": {},
   "outputs": [],
   "source": [
    "list(t4b.keys())"
   ]
  },
  {
   "cell_type": "code",
   "execution_count": null,
   "metadata": {},
   "outputs": [],
   "source": [
    "print('values for score_name:', list(t4b.available_values('score_name')))\n",
    "print('values for response_function:', list(t4b.available_values('response_function')))\n",
    "print('values for scoring_zone_id:', list(t4b.available_values('scoring_zone_id')))\n",
    "print('values for particle:', list(t4b.available_values('particle')))\n",
    "print('values for reaction_on_nucleus:', list(t4b.available_values('reaction_on_nucleus')))"
   ]
  },
  {
   "cell_type": "markdown",
   "metadata": {},
   "source": [
    "#### Sélection des réponses / résultats grâce au `Browser`\n",
    "\n",
    "Il est possible de sélectionner les réponses à partir des métadonnées. La méthode à choisir dépend de l'objet dont on a besoin en sortie.\n",
    "\n",
    "* `filter_by` pour récupérer un sous-`Browser`\n",
    "* `select_by` pour récupérer la liste de réponses correspondant ou la réponse (si elle est unique et que `squeeze` est requis)\n",
    "\n",
    "La sélection se fait \n",
    "\n",
    "* par mot-clef/valeur, soit métadonnée/valeur de cette métadonnée (*keyword arguments* correspondant aux clefs disponibles)\n",
    "* `include=tuple(key)` pour sélectionner toutes les réponses contenant cette métadonnée sans distinction de la valeur\n",
    "* `exclude=tuple(key)` pour exclure les réponses contenant une métadonnée\n",
    "\n",
    "`include` et `exclude` ne fonctionnent que sur le nom de la métadonnée, pas sur sa valeur.\n",
    "\n",
    "Ces 3 possibilités sont bien sûr combinables."
   ]
  },
  {
   "cell_type": "code",
   "execution_count": null,
   "metadata": {},
   "outputs": [],
   "source": [
    "b_flux = t4b.filter_by(response_function='FLUX')\n",
    "print(b_flux)"
   ]
  },
  {
   "cell_type": "markdown",
   "metadata": {},
   "source": [
    "Le nombre de réponses dans le `Browser` n'est maintenant plus que de 2 au lieu de 18, il ne reste plus que celles correspondant à un flux. Récupérer les réponses peut se faire directement ou avec l'autre méthode."
   ]
  },
  {
   "cell_type": "code",
   "execution_count": null,
   "metadata": {},
   "outputs": [],
   "source": [
    "resp_flux_1 = t4b.select_by(response_function='FLUX')\n",
    "print(type(resp_flux_1), len(resp_flux_1))"
   ]
  },
  {
   "cell_type": "code",
   "execution_count": null,
   "metadata": {},
   "outputs": [],
   "source": [
    "resp_flux_2 = b_flux.select_by(response_function='FLUX')  # mais c'est très redondant du coup...\n",
    "print(type(resp_flux_2), len(resp_flux_2))"
   ]
  },
  {
   "cell_type": "code",
   "execution_count": null,
   "metadata": {},
   "outputs": [],
   "source": [
    "print(resp_flux_1 == resp_flux_2)\n",
    "print([(r1['index'], r2['index']) for r1, r2 in zip(resp_flux_1, resp_flux_2)])"
   ]
  },
  {
   "cell_type": "markdown",
   "metadata": {},
   "source": [
    "Les listes de réponses ne sont pas égales car le sous-`Browser` remet à zéro les index (en crée un nouveau en réalité).\n",
    "\n",
    "À noter : les variables globales du `Browser` sont transmises au sous-`Browser`."
   ]
  },
  {
   "cell_type": "code",
   "execution_count": null,
   "metadata": {},
   "outputs": [],
   "source": [
    "b_flux.globals == t4b.globals"
   ]
  },
  {
   "cell_type": "code",
   "execution_count": null,
   "metadata": {},
   "outputs": [],
   "source": [
    "b_excl_compo = t4b.filter_by(exclude=('composition',))  # attention à bien utiliser un tuple\n",
    "print(b_excl_compo)"
   ]
  },
  {
   "cell_type": "markdown",
   "metadata": {},
   "source": [
    "Les réponses ont été « aplaties » (ou *flattened*). Dans le jeu de données d'origine 3 réponses sont demandées sur une liste de scoring zones à chaque fois."
   ]
  },
  {
   "cell_type": "markdown",
   "metadata": {},
   "source": [
    "```\n",
    "SCORE\n",
    "\t4\n",
    "\tNAME reaction_Rh103_l10surf\n",
    "\treaction_Rh103\n",
    "\tSURF DECOUPAGE DEC_INTEGRAL FRONTIER LIST 10\n",
    "\t\t11 20\t12 21\t12 22\t12 23\t12 24\t\n",
    "\t\t12 25\t12 26\t14 27\t14 28\t16 29\n",
    "\tNAME reaction_In115_l3surf\n",
    "\treaction_In115\n",
    "\tSURF DECOUPAGE DEC_INTEGRAL FRONTIER LIST 3\n",
    "\t\t14 27\t14 28\t16 29\n",
    "\tNAME reaction_S32_l3surf\n",
    "\treaction_S32\n",
    "\tSURF DECOUPAGE DEC_INTEGRAL FRONTIER LIST 3\n",
    "\t\t14 27\t14 28\t16 29\n",
    "\tNAME flux_l2surf\n",
    "\tflux\n",
    "\tSURF DECOUPAGE DEC_SPECTRE FRONTIER LIST 2\n",
    "\t\t14 27\t16 29\n",
    "FIN_SCORE\n",
    "```"
   ]
  },
  {
   "cell_type": "markdown",
   "metadata": {},
   "source": [
    "Pour récupérer une réponse donnée dans le cas présent il faut au moins deux critères, dont `scoring_zone_id`."
   ]
  },
  {
   "cell_type": "code",
   "execution_count": null,
   "metadata": {
    "scrolled": true
   },
   "outputs": [],
   "source": [
    "b_reacIn_16_29 = t4b.filter_by(score_name='reaction_In115_l3surf', scoring_zone_id=(16, 29))\n",
    "print(b_reacIn_16_29)"
   ]
  },
  {
   "cell_type": "code",
   "execution_count": null,
   "metadata": {},
   "outputs": [],
   "source": [
    "reacIn_16_29 = t4b.select_by(score_name='reaction_In115_l3surf', scoring_zone_id=(16, 29), squeeze=True)\n",
    "print(type(reacIn_16_29))\n",
    "print(reacIn_16_29)"
   ]
  },
  {
   "cell_type": "code",
   "execution_count": null,
   "metadata": {},
   "outputs": [],
   "source": [
    "flux_14_27 = t4b.select_by(response_function='FLUX', scoring_zone_id=(14, 27), squeeze=True)\n",
    "print(type(flux_14_27))\n",
    "print(list(flux_14_27['results'].keys()))"
   ]
  },
  {
   "cell_type": "markdown",
   "metadata": {},
   "source": [
    "Une fois le résultat voulu sélectionné on peut accéder aux données elles-mêmes.\n",
    "\n",
    "Dans le cas de `flux_14_27` (flux surfacique entre les surfaces 14 et 27) il existe 6 types de données :\n",
    "\n",
    "* les nombres de batches utilisés et mis de côté pour le calcul du flux\n",
    "* le spectre utilisant tout le découpage en énergie (score demandé) (`score`)\n",
    "* l'intégrale du spectre sur le découpage en énergie (`score_integrated`)\n",
    "* le spectre score/lethargy, soit renormalisé à la largeur du bin, sur tout le découpage en énergie (`score/lethargy`)\n",
    "* les unités\n",
    "\n",
    "Tous ces résultats sont encapsulés dans un `Dataset`, à l'exception des unités qui sont dans un dictionnaire.\n",
    "\n",
    "\n",
    "### Étape 3 : utilisation d'un `Dataset`\n",
    "\n",
    "Le `Dataset` permet de comparer les données à d'autres grâce aux tests ou de les représenter par exemple.\n",
    "\n",
    "Le `Dataset` permet de stocker les données et de faire des opérations dessus (ajout de datasets, sélection de dimension, multiplication par un dataset ou une constante, etc.). Les tests statistiques proposés par `valjean` attendent également des `Dataset`. Leur argument `name` est mis par défaut à celui du fichier parsé. L'argument `what` est utilisé pour donner à un nom au type de données qu'ils contiennent. Il sera utilisé en axe des ordonnées d'un histogramme 1D par exemple. Ces deux arguments sont modifiables à tout moment."
   ]
  },
  {
   "cell_type": "code",
   "execution_count": null,
   "metadata": {},
   "outputs": [],
   "source": [
    "fds_flux_14_27 = flux_14_27['results']['score']\n",
    "print(fds_flux_14_27)\n",
    "fds_flux_14_27.name = 'flux(14, 27)'\n",
    "fds_flux_14_27.what = 'Flux'"
   ]
  },
  {
   "cell_type": "markdown",
   "metadata": {},
   "source": [
    "Les spectres (comme les maillages) sont par défault en 7 dimensions, dont les noms sont stockés dans les bins. Le dictionnaire de bins est un `OrderedDict` qui respecte l'ordre des dimensions de l'array Numpy."
   ]
  },
  {
   "cell_type": "markdown",
   "metadata": {},
   "source": [
    "Petit commentaire sur les noms de ces bins :\n",
    "\n",
    "- `'u'`, `'v'`, `'w'` correspondent aux 3 variables d'espace (surtout pour les maillages), ce qui peut donc être par exemple $(x, y, z)$, $(r, \\theta, z)$ ou $(r, \\theta, \\phi)$\n",
    "- `'e'` l'énergie, `'t'` le temps\n",
    "- `'mu'` et `'phi'` la direction de la particule\n",
    "\n",
    "Des unités sont données par défaut (celle de Tripoli par défaut si non précisé, `unknown` pour les variables d'espace)."
   ]
  },
  {
   "cell_type": "code",
   "execution_count": null,
   "metadata": {},
   "outputs": [],
   "source": [
    "print(flux_14_27['results']['units'])"
   ]
  },
  {
   "cell_type": "markdown",
   "metadata": {},
   "source": [
    "La plupart du temps beaucoup de ces dimensions ne sont pas précisées dans Tripoli-4, n'ont donc pas de découpage (ou de bins) et sont ainsi à 1 dans la shape. Pour les réduire, pour l'affichage ou l'utilisation, il est possible de *squeezer* le `Dataset`. Cette suppression des dimensions non utilisées en conseillée pour les tests.\n",
    "\n",
    "Dans le cas de `flux_14_27` seule la dimension correspondant à l'énergie est pertinente, le *squeeze* permet de ne conserver qu'elle."
   ]
  },
  {
   "cell_type": "code",
   "execution_count": null,
   "metadata": {},
   "outputs": [],
   "source": [
    "ds_flux_14_27 = fds_flux_14_27.squeeze()\n",
    "print(ds_flux_14_27)"
   ]
  },
  {
   "cell_type": "markdown",
   "metadata": {},
   "source": [
    "Le `Dataset` correspondant au résultat intégré du spectre donne quant à lui :"
   ]
  },
  {
   "cell_type": "code",
   "execution_count": null,
   "metadata": {},
   "outputs": [],
   "source": [
    "ds_flux_14_27_int = flux_14_27['results']['score_integrated']\n",
    "print(ds_flux_14_27_int)\n",
    "ds_flux_14_27_int.name='flux_14_27'\n",
    "ds_flux_14_27_int.what='Flux'\n",
    "print(ds_flux_14_27_int.squeeze())"
   ]
  },
  {
   "cell_type": "markdown",
   "metadata": {},
   "source": [
    "Le *squeeze* supprime les bins dans deux conditions :\n",
    "\n",
    "* il n'y a pas de bins\n",
    "* il n'y a qu'un bin, donc la dimension est triviale\n",
    "\n",
    "**Remarque** : pour une dimension donnée, si on a N valeurs, les bins sont\n",
    "\n",
    "* soit donnés par leurs limites, il y a donc N+1 valeurs de bins,\n",
    "* soit donnés par leurs centres, il y a donc N valeurs"
   ]
  },
  {
   "cell_type": "markdown",
   "metadata": {},
   "source": [
    "Pour construire un `Dataset` on doit cependant connaître les clefs disponibles sous `results`.\n",
    "\n",
    "Dans le cas des taux de réaction on a :"
   ]
  },
  {
   "cell_type": "code",
   "execution_count": null,
   "metadata": {},
   "outputs": [],
   "source": [
    "print(list(reacIn_16_29['results'].keys()))"
   ]
  },
  {
   "cell_type": "markdown",
   "metadata": {},
   "source": [
    "Dans ce cas précis, comme le découpage ne comprend qu'un seul bin, le `Dataset` issu de `'integrated'` et celui issu de `'spectrum'` devraient être les mêmes."
   ]
  },
  {
   "cell_type": "code",
   "execution_count": null,
   "metadata": {},
   "outputs": [],
   "source": [
    "ds_reacIn_16_29_spec = reacIn_16_29['results']['score']\n",
    "ds_reacIn_16_29_spec.name='spectrum'\n",
    "ds_reacIn_16_29_spec.what='Flux'\n",
    "print(ds_reacIn_16_29_spec)\n",
    "print(ds_reacIn_16_29_spec.value)\n",
    "ds_reacIn_16_29_int = reacIn_16_29['results']['score_integrated']\n",
    "ds_reacIn_16_29_int.name='integrated'\n",
    "ds_reacIn_16_29_int.what='Flux'\n",
    "print(ds_reacIn_16_29_int)\n",
    "print(ds_reacIn_16_29_int.value)"
   ]
  },
  {
   "cell_type": "markdown",
   "metadata": {},
   "source": [
    "### Étape 4 : faire un test et le représenter, exemple du test de Student\n",
    "\n",
    "Pour avoir une description du test de Student, voir la documentation de *valjean*."
   ]
  },
  {
   "cell_type": "code",
   "execution_count": null,
   "metadata": {},
   "outputs": [],
   "source": [
    "from valjean.gavroche.stat_tests.student import TestStudent"
   ]
  },
  {
   "cell_type": "markdown",
   "metadata": {},
   "source": [
    "La représentation d'un test peut se faire sous forme de tableau ou de graphique."
   ]
  },
  {
   "cell_type": "code",
   "execution_count": null,
   "metadata": {},
   "outputs": [],
   "source": [
    "# includes et initialisations pour les tableaux\n",
    "from valjean.javert.representation import TableRepresenter\n",
    "from valjean.javert.rst import RstFormatter\n",
    "\n",
    "tabrepr = TableRepresenter()\n",
    "rstformat = RstFormatter()"
   ]
  },
  {
   "cell_type": "code",
   "execution_count": null,
   "metadata": {},
   "outputs": [],
   "source": [
    "# include et initialisation pour les graphiques\n",
    "from valjean.javert.representation import PlotRepresenter\n",
    "from valjean.javert.mpl import MplPlot\n",
    "\n",
    "plotrepr = PlotRepresenter()"
   ]
  },
  {
   "cell_type": "markdown",
   "metadata": {},
   "source": [
    "#### Comparaison de l'intégrale du spectre et du spectre dans le cas de la réaction sur In115 entre les surfaces 16 et 29"
   ]
  },
  {
   "cell_type": "code",
   "execution_count": null,
   "metadata": {},
   "outputs": [],
   "source": [
    "stud_reacIn = TestStudent(ds_reacIn_16_29_spec, ds_reacIn_16_29_int, name='spectrum vs intregral',\n",
    "                          description=\"Comparaison du spectre sur 1 bin à l'intégrale\").evaluate()\n",
    "print(type(stud_reacIn))\n",
    "print(bool(stud_reacIn))"
   ]
  },
  {
   "cell_type": "code",
   "execution_count": null,
   "metadata": {
    "scrolled": true
   },
   "outputs": [],
   "source": [
    "montab = tabrepr(stud_reacIn)  # il s'agit d'une liste de TableTemplate\n",
    "monrst = rstformat.template(montab[0])\n",
    "print(monrst)"
   ]
  },
  {
   "cell_type": "code",
   "execution_count": null,
   "metadata": {},
   "outputs": [],
   "source": [
    "monplot = plotrepr(stud_reacIn)\n",
    "print(monplot)"
   ]
  },
  {
   "cell_type": "markdown",
   "metadata": {},
   "source": [
    "Les graphiques ne sont pas disponibles pour les quantités sans réels bins."
   ]
  },
  {
   "cell_type": "markdown",
   "metadata": {},
   "source": [
    "#### Comparaison des flux entre les surfaces 14 et 27 et les surfaces 16 et 29\n",
    "\n",
    "Le découpage en énergie de ces deux flux étant les mêmes leur comparaison est possible."
   ]
  },
  {
   "cell_type": "code",
   "execution_count": null,
   "metadata": {},
   "outputs": [],
   "source": [
    "# construction du Dataset pour le flux entre les surfaces 16 et 29\n",
    "flux_16_29 = t4b.select_by(response_function='FLUX', scoring_zone_id=(16, 29), squeeze=True)\n",
    "ds_flux_16_29 = flux_16_29['results']['score'].squeeze()\n",
    "ds_flux_16_29.name='flux(16, 29)'\n",
    "ds_flux_16_29.what='Flux'"
   ]
  },
  {
   "cell_type": "code",
   "execution_count": null,
   "metadata": {},
   "outputs": [],
   "source": [
    "tstud_flux = TestStudent(ds_flux_14_27, ds_flux_16_29, name=\"flux_14_17_vs_16_29\",\n",
    "                         description=\"Comparison of the flux between surfaces 14 and 27 and surfaces 16 and 29\")\n",
    "stud_flux = tstud_flux.evaluate()\n",
    "print(bool(stud_flux))"
   ]
  },
  {
   "cell_type": "code",
   "execution_count": null,
   "metadata": {},
   "outputs": [],
   "source": [
    "montab = tabrepr(stud_flux)  # encore une liste\n",
    "monrst = rstformat.template(montab[0])\n",
    "print(monrst)"
   ]
  },
  {
   "cell_type": "code",
   "execution_count": null,
   "metadata": {},
   "outputs": [],
   "source": [
    "monplot = plotrepr(stud_flux)\n",
    "mpl = MplPlot(monplot[0]).draw()"
   ]
  },
  {
   "cell_type": "markdown",
   "metadata": {},
   "source": [
    "Dans le cas d'un spectre un test de Student est effectué par bin. Dans le cas présent les spectres ne sont manifestement pas en accord, ce qui est attendu. Cependant, dans le cas d'une comparaison avec des données réellement comparables on peut s'attendre à un certain nombre de bins pour lesquels la comparaison échoue mais pas tous. Ce nombre dépend du nombre de bins.\n",
    "\n",
    "Pour évaluer cela un autre test statistique est possible, le test de Holm-Bonferroni (voir la documentation pour plus de précisions)."
   ]
  }
 ],
 "metadata": {
  "celltoolbar": "Format de la Cellule Texte Brut",
  "kernelspec": {
   "display_name": "Python 3",
   "language": "python",
   "name": "python3"
  },
  "language_info": {
   "codemirror_mode": {
    "name": "ipython",
    "version": 3
   },
   "file_extension": ".py",
   "mimetype": "text/x-python",
   "name": "python",
   "nbconvert_exporter": "python",
   "pygments_lexer": "ipython3",
   "version": "3.7.6"
  }
 },
 "nbformat": 4,
 "nbformat_minor": 4
}
