{
 "cells": [
  {
   "cell_type": "markdown",
   "id": "bef4a8a5",
   "metadata": {},
   "source": [
    "# Godiva : analyse de $k_\\mathrm{eff}$\n",
    "\n",
    "Le jeu de données utilisé est : [heu-met-fast-001-godiva](heu-met-fast-001-godiva.t4).\n",
    "\n",
    "Les résultats à analyser sont les $k_\\mathrm{eff}$ calculés par Tripoli-4."
   ]
  },
  {
   "cell_type": "markdown",
   "id": "ec3d8105",
   "metadata": {},
   "source": [
    "## Parsing du jeu de données et exploration des résultats"
   ]
  },
  {
   "cell_type": "code",
   "execution_count": null,
   "id": "074c0cbb",
   "metadata": {},
   "outputs": [],
   "source": [
    "from valjean.eponine.tripoli4.parse import Parser\n",
    "\n",
    "# scan du jeu de données\n",
    "t4p = Parser('heu-met-fast-001-godiva.res')\n",
    "# parsing du dernier batch (par défaut, index=-1)\n",
    "t4res = t4p.parse_from_index()\n",
    "# clefs disponibles dans le dictionnaire de résultats\n",
    "list(t4res.res.keys())"
   ]
  },
  {
   "cell_type": "markdown",
   "id": "850cce13",
   "metadata": {},
   "source": [
    "Pour manipuler plus aisément les réponses de Tripoli-4 et en particulier les sélectionner on utilise un objet `Browser`."
   ]
  },
  {
   "cell_type": "code",
   "execution_count": null,
   "id": "3fe5b7b9",
   "metadata": {},
   "outputs": [],
   "source": [
    "t4b = t4res.to_browser()\n",
    "print(t4b)"
   ]
  },
  {
   "cell_type": "markdown",
   "id": "91e894ff",
   "metadata": {},
   "source": [
    "Accès aux paramètres globaux du résultat :"
   ]
  },
  {
   "cell_type": "code",
   "execution_count": null,
   "id": "f0dbd1d4",
   "metadata": {
    "scrolled": true
   },
   "outputs": [],
   "source": [
    "from pprint import pprint\n",
    "pprint(t4b.globals)"
   ]
  },
  {
   "cell_type": "markdown",
   "id": "5d6da9f3",
   "metadata": {},
   "source": [
    "Le contenu (soit les réponses) est caractérisé par des mots-clefs - valeurs :"
   ]
  },
  {
   "cell_type": "code",
   "execution_count": null,
   "id": "6d5464c9",
   "metadata": {},
   "outputs": [],
   "source": [
    "for k in list(t4b.keys()):\n",
    "    print(\"{0} -> {1}\".format(k, list(t4b.available_values(k))))"
   ]
  },
  {
   "cell_type": "markdown",
   "id": "2189a589",
   "metadata": {},
   "source": [
    "La sélection de la réponse se fait grâce aux mots-clefs - valeurs ci-dessus par les méthodes\n",
    "\n",
    "* `filter_by` → sous-`Browser` correspondant à la sélection\n",
    "* `select_by` → réponse unique correspondant à la sélection (exception s'il n'y a pas de correspondance ou si plusieurs réponses correspondent)"
   ]
  },
  {
   "cell_type": "markdown",
   "id": "c7fb7af6",
   "metadata": {},
   "source": [
    "## Sélection des $k_\\mathrm{eff}$\n",
    "\n",
    "Deux types de résultats de $k_\\mathrm{eff}$ sont disponibles :\n",
    "\n",
    "* les $k_\\mathrm{eff}$ qui apparaissent comme les réponses standard dans le listing de sortie de Tripoli-4, qui comportent normalement trois évaluations : `KSTEP`, `KCOLL` et `KTRACK` ainsi que leurs corrélations et le résultat de leur combinaison, appelés ici $k_\\mathrm{eff}$ \"génériques\"\n",
    "* les $k_\\mathrm{eff}$ apparaissant le plus souvent en toute fin de listing, donc le *discard* est calculé automatiquement, de manière à en donner la meilleure estimation, appelés ici $k_\\mathrm{eff}$ \"automatiques\"\n",
    "\n",
    "### $k_\\mathrm{eff}$ \"génériques\""
   ]
  },
  {
   "cell_type": "code",
   "execution_count": null,
   "id": "b477606e",
   "metadata": {},
   "outputs": [],
   "source": [
    "keffs = t4b.filter_by(response_function='KEFFS')\n",
    "print(len(keffs))"
   ]
  },
  {
   "cell_type": "markdown",
   "id": "00caca87",
   "metadata": {},
   "source": [
    "Il y a 7 $k_\\mathrm{eff}$ disponibles comme attendu (les 3 valeurs, les 3 combinaisons deux à deux et les corrélations associées et la combinaison des trois. Pour en connaître la liste précise et pouvoir les isoler le plus simple est d'utiliser la clef ``'keff_estimator'`` :"
   ]
  },
  {
   "cell_type": "code",
   "execution_count": null,
   "id": "51057718",
   "metadata": {},
   "outputs": [],
   "source": [
    "pprint(list(keffs.available_values('keff_estimator')))"
   ]
  },
  {
   "cell_type": "markdown",
   "id": "16137b8a",
   "metadata": {},
   "source": [
    "La sélection des $k_\\mathrm{eff}$ avec les clefs ``'response_function'`` et ``'keff_estimator'`` donnant un unique résultat il est possible d'utiliser ``select_by`` pour le récupérer directement."
   ]
  },
  {
   "cell_type": "code",
   "execution_count": null,
   "id": "c56855a2",
   "metadata": {},
   "outputs": [],
   "source": [
    "kstep = t4b.select_by(response_function='KEFFS', keff_estimator='KSTEP')\n",
    "print(list(kstep['results'].keys()))\n",
    "ds_kstep = kstep['results']['keff']\n",
    "ds_kstep.name='kstep'  # name is '' by default\n",
    "print(ds_kstep)"
   ]
  },
  {
   "cell_type": "code",
   "execution_count": null,
   "id": "dab42bbf",
   "metadata": {},
   "outputs": [],
   "source": [
    "kstep_kcoll = t4b.select_by(response_function='KEFFS', keff_estimator='KSTEP-KCOLL')\n",
    "print(list(kstep_kcoll['results'].keys()))\n",
    "print(kstep_kcoll['results']['keff'])"
   ]
  },
  {
   "cell_type": "markdown",
   "id": "aaf6f5cb",
   "metadata": {},
   "source": [
    "Pour obtenir la corrélation :"
   ]
  },
  {
   "cell_type": "code",
   "execution_count": null,
   "id": "338d031b",
   "metadata": {},
   "outputs": [],
   "source": [
    "print(kstep_kcoll['results']['correlation_keff'])"
   ]
  },
  {
   "cell_type": "markdown",
   "id": "405e646b",
   "metadata": {},
   "source": [
    "Remarque : elle n'a pas d'erreur.\n",
    "\n",
    "\n",
    "### $k_\\mathrm{eff}$ \"automatiques\""
   ]
  },
  {
   "cell_type": "code",
   "execution_count": null,
   "id": "070c39e4",
   "metadata": {},
   "outputs": [],
   "source": [
    "keffs = t4b.filter_by(response_type='keff_auto')\n",
    "print(len(keffs))\n",
    "pprint(list(keffs.available_values('keff_estimator')))"
   ]
  },
  {
   "cell_type": "markdown",
   "id": "752994b5",
   "metadata": {},
   "source": [
    "Dans ce cas il y a un autre estimateur en plus : ``'MACRO_KCOLL'``. À noter également la présence du nombre de batches *discarded* puisqu'il est calculé par Tripoli-4."
   ]
  },
  {
   "cell_type": "markdown",
   "id": "6d2d0d3b",
   "metadata": {},
   "source": [
    "## Exemples de comparaison de $k_\\mathrm{eff}$\n",
    "\n",
    "Différents tests sont disponibles dans *valjean*. Par exemple :\n",
    "\n",
    "* `TestEqual` qui vérifie que les datasets sont égaux (ce test est plutôt prévu pour des valeurs entières comme les nombres de batches)\n",
    "* `TestApproxEqual` qui vérifie que les datasets sont approximativement égaux (pertinent pour les `float` pour lesquels on n'a pas d'erreur associée, les corrélations de $k_\\mathrm{eff}$ par exemple)\n",
    "* `TestStudent` dans le cas où l'on veut prendre en compte les erreurs sur les valeurs\n",
    "\n",
    "Pour tous ces tests il faut définir une référence, qui sera le premier dataset donné au test.\n",
    "\n",
    "L'exemple ci-dessous présente la comparaison des $k_\\mathrm{eff}$ obtenus grâce à la modélisation simplifiée utilisée ci-dessus à celle du modèle en couches décrit dans [heu-met-fast-001-shell_model](heu-met-fast-001-shell_model.t4).\n",
    "\n",
    "On utilisera les $k_\\mathrm{eff}$ \"génériques\" en comparant tous les estimateurs un à un."
   ]
  },
  {
   "cell_type": "code",
   "execution_count": null,
   "id": "4743e19d",
   "metadata": {},
   "outputs": [],
   "source": [
    "sb = t4b.filter_by(response_function='KEFFS')\n",
    "print('estimators values:', list(sb.available_values('keff_estimator')))"
   ]
  },
  {
   "cell_type": "markdown",
   "id": "edf39896",
   "metadata": {},
   "source": [
    "Tous les $k_\\mathrm{eff}$ sont récupérés et stockés dans une liste. L'estimateur sera utilisé comme `'name'` pour chaque `Dataset`."
   ]
  },
  {
   "cell_type": "code",
   "execution_count": null,
   "id": "fd6e19bd",
   "metadata": {},
   "outputs": [],
   "source": [
    "dsets = []\n",
    "for keff in sb.content:\n",
    "    dsets.append(keff['results']['keff'])\n",
    "    dsets[-1].name=keff['keff_estimator']\n",
    "# print(dsets)"
   ]
  },
  {
   "cell_type": "markdown",
   "id": "60f03424",
   "metadata": {},
   "source": [
    "Pour rendre le résultat plus lisible un seul `Dataset` va être construit, contenant tous les $k_\\mathrm{eff}$ pour une modélisation donnée. Les bins correspondent alors aux noms des estimateurs, actuellement stockés dans la variable `'name'` des `Dataset`."
   ]
  },
  {
   "cell_type": "code",
   "execution_count": null,
   "id": "926e3b3a",
   "metadata": {},
   "outputs": [],
   "source": [
    "from collections import OrderedDict\n",
    "import numpy as np\n",
    "from valjean.eponine.dataset import Dataset"
   ]
  },
  {
   "cell_type": "code",
   "execution_count": null,
   "id": "52e055f1",
   "metadata": {},
   "outputs": [],
   "source": [
    "dset_simple = Dataset(value=np.array([k.value for k in dsets]),\n",
    "                      error=np.array([k.error for k in dsets]),\n",
    "                      bins=OrderedDict([('estimator', np.array([k.name for k in dsets]))]),\n",
    "                      name='Simple model', what='keff')"
   ]
  },
  {
   "cell_type": "code",
   "execution_count": null,
   "id": "6b063041",
   "metadata": {},
   "outputs": [],
   "source": [
    "print(dset_simple)"
   ]
  },
  {
   "cell_type": "markdown",
   "id": "05ace894",
   "metadata": {},
   "source": [
    "Un `Dataset` similaire est construit pour la modélisation en couche."
   ]
  },
  {
   "cell_type": "code",
   "execution_count": null,
   "id": "9c2ff3ae",
   "metadata": {},
   "outputs": [],
   "source": [
    "t4p_shell = Parser('heu-met-fast-001-shell_model.res')\n",
    "t4b_shell = t4p_shell.parse_from_index().to_browser()"
   ]
  },
  {
   "cell_type": "code",
   "execution_count": null,
   "id": "646a36ba",
   "metadata": {},
   "outputs": [],
   "source": [
    "sb_shell = t4b_shell.filter_by(response_function='KEFFS')\n",
    "ldsets_shell = []\n",
    "for keff in sb_shell.content:\n",
    "    ldsets_shell.append(keff['results']['keff'])\n",
    "    ldsets_shell[-1].name=keff['keff_estimator']"
   ]
  },
  {
   "cell_type": "code",
   "execution_count": null,
   "id": "412933d7",
   "metadata": {},
   "outputs": [],
   "source": [
    "dset_shell = Dataset(value=np.array([k.value for k in ldsets_shell]),\n",
    "                     error=np.array([k.error for k in ldsets_shell]),\n",
    "                     bins=OrderedDict([('estimator', np.array([k.name for k in ldsets_shell]))]),\n",
    "                     name='Shell model', what='keff')"
   ]
  },
  {
   "cell_type": "markdown",
   "id": "0ab4a10d",
   "metadata": {},
   "source": [
    "On importe les tests et la possibilité d'en faire des représentations"
   ]
  },
  {
   "cell_type": "code",
   "execution_count": null,
   "id": "b3fadeab",
   "metadata": {},
   "outputs": [],
   "source": [
    "from valjean.gavroche.stat_tests.student import TestStudent\n",
    "from valjean.javert.representation import FullRepresenter\n",
    "from valjean.javert.rst import RstFormatter\n",
    "from valjean.javert.mpl import MplPlot\n",
    "from valjean.javert.verbosity import Verbosity\n",
    "\n",
    "frepr = FullRepresenter()\n",
    "rstformat = RstFormatter()"
   ]
  },
  {
   "cell_type": "markdown",
   "id": "22df47dd",
   "metadata": {},
   "source": [
    "La comparaison sera faite grâce à un `TestStudent` pour prendre en compte les erreurs statistiques de Tripoli-4."
   ]
  },
  {
   "cell_type": "code",
   "execution_count": null,
   "id": "4a85cc79",
   "metadata": {},
   "outputs": [],
   "source": [
    "tstud_res = TestStudent(dset_simple, dset_shell, name='TestStudent',\n",
    "                        description='Test le TestStudent sur les keff').evaluate()\n",
    "print(bool(tstud_res))"
   ]
  },
  {
   "cell_type": "code",
   "execution_count": null,
   "id": "d398d738",
   "metadata": {},
   "outputs": [],
   "source": [
    "stud_temp = frepr(tstud_res, verbosity=Verbosity.FULL_DETAILS)  # il s'agit d'une liste de templates\n",
    "stud_rst = rstformat.template(stud_temp[1])\n",
    "print(stud_rst)"
   ]
  },
  {
   "cell_type": "code",
   "execution_count": null,
   "id": "aab8e244",
   "metadata": {},
   "outputs": [],
   "source": [
    "mpl = MplPlot(stud_temp[0]).draw()"
   ]
  }
 ],
 "metadata": {
  "kernelspec": {
   "display_name": "Python 3",
   "language": "python",
   "name": "python3"
  },
  "language_info": {
   "codemirror_mode": {
    "name": "ipython",
    "version": 3
   },
   "file_extension": ".py",
   "mimetype": "text/x-python",
   "name": "python",
   "nbconvert_exporter": "python",
   "pygments_lexer": "ipython3",
   "version": "3.9.0"
  }
 },
 "nbformat": 4,
 "nbformat_minor": 5
}
